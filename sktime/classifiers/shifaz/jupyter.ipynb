{
 "cells": [
  {
   "cell_type": "code",
   "execution_count": 2,
   "metadata": {
    "pycharm": {
     "is_executing": false
    }
   },
   "outputs": [],
   "source": [
    "import numpy as np\n",
    "import pandas as pd\n",
    "\n",
    "from sktime.classifiers.shifaz.tschief import ChiefTree"
   ]
  },
  {
   "cell_type": "code",
   "execution_count": 132,
   "metadata": {
    "pycharm": {
     "is_executing": false,
     "name": "#%%\n"
    },
    "scrolled": true
   },
   "outputs": [
    {
     "data": {
      "text/html": [
       "<div>\n",
       "<style scoped>\n",
       "    .dataframe tbody tr th:only-of-type {\n",
       "        vertical-align: middle;\n",
       "    }\n",
       "\n",
       "    .dataframe tbody tr th {\n",
       "        vertical-align: top;\n",
       "    }\n",
       "\n",
       "    .dataframe thead th {\n",
       "        text-align: right;\n",
       "    }\n",
       "</style>\n",
       "<table border=\"1\" class=\"dataframe\">\n",
       "  <thead>\n",
       "    <tr style=\"text-align: right;\">\n",
       "      <th></th>\n",
       "      <th>dim_0</th>\n",
       "    </tr>\n",
       "  </thead>\n",
       "  <tbody>\n",
       "    <tr>\n",
       "      <th>0</th>\n",
       "      <td>0     -0.114538\n",
       "1     -0.113988\n",
       "2     -0.12748...</td>\n",
       "    </tr>\n",
       "    <tr>\n",
       "      <th>1</th>\n",
       "      <td>0     -0.124929\n",
       "1     -0.113072\n",
       "2     -0.10247...</td>\n",
       "    </tr>\n",
       "    <tr>\n",
       "      <th>2</th>\n",
       "      <td>0     -0.072244\n",
       "1     -0.069892\n",
       "2     -0.05651...</td>\n",
       "    </tr>\n",
       "    <tr>\n",
       "      <th>3</th>\n",
       "      <td>0     -0.073526\n",
       "1     -0.068417\n",
       "2     -0.05367...</td>\n",
       "    </tr>\n",
       "    <tr>\n",
       "      <th>4</th>\n",
       "      <td>0     -0.110460\n",
       "1     -0.103346\n",
       "2     -0.09253...</td>\n",
       "    </tr>\n",
       "    <tr>\n",
       "      <th>5</th>\n",
       "      <td>0     -0.342868\n",
       "1     -0.345850\n",
       "2     -0.39456...</td>\n",
       "    </tr>\n",
       "    <tr>\n",
       "      <th>6</th>\n",
       "      <td>0     -0.253049\n",
       "1     -0.258688\n",
       "2     -0.26768...</td>\n",
       "    </tr>\n",
       "    <tr>\n",
       "      <th>7</th>\n",
       "      <td>0     -0.245858\n",
       "1     -0.249768\n",
       "2     -0.25620...</td>\n",
       "    </tr>\n",
       "    <tr>\n",
       "      <th>8</th>\n",
       "      <td>0     -0.234779\n",
       "1     -0.233949\n",
       "2     -0.23715...</td>\n",
       "    </tr>\n",
       "    <tr>\n",
       "      <th>9</th>\n",
       "      <td>0     -0.250014\n",
       "1     -0.248797\n",
       "2     -0.25112...</td>\n",
       "    </tr>\n",
       "  </tbody>\n",
       "</table>\n",
       "</div>"
      ],
      "text/plain": [
       "                                               dim_0\n",
       "0  0     -0.114538\n",
       "1     -0.113988\n",
       "2     -0.12748...\n",
       "1  0     -0.124929\n",
       "1     -0.113072\n",
       "2     -0.10247...\n",
       "2  0     -0.072244\n",
       "1     -0.069892\n",
       "2     -0.05651...\n",
       "3  0     -0.073526\n",
       "1     -0.068417\n",
       "2     -0.05367...\n",
       "4  0     -0.110460\n",
       "1     -0.103346\n",
       "2     -0.09253...\n",
       "5  0     -0.342868\n",
       "1     -0.345850\n",
       "2     -0.39456...\n",
       "6  0     -0.253049\n",
       "1     -0.258688\n",
       "2     -0.26768...\n",
       "7  0     -0.245858\n",
       "1     -0.249768\n",
       "2     -0.25620...\n",
       "8  0     -0.234779\n",
       "1     -0.233949\n",
       "2     -0.23715...\n",
       "9  0     -0.250014\n",
       "1     -0.248797\n",
       "2     -0.25112..."
      ]
     },
     "execution_count": 132,
     "metadata": {},
     "output_type": "execute_result"
    }
   ],
   "source": [
    "from sktime.utils.load_data import load_from_tsfile_to_dataframe\n",
    "data_path = \"/data/\"\n",
    "archive_name ='Univariate2018_ts'\n",
    "dataset_name = 'Beef'\n",
    "\n",
    "train_file = data_path + archive_name + '/' + dataset_name + '/' +  dataset_name + '_TRAIN.ts'\n",
    "test_file = data_path + archive_name + '/' + dataset_name + '/' +  dataset_name + '_TEST.ts'\n",
    "\n",
    "train_x, train_y = load_from_tsfile_to_dataframe(train_file)\n",
    "test_x, test_y = load_from_tsfile_to_dataframe(test_file)\n",
    "test_x.head(10)"
   ]
  },
  {
   "cell_type": "code",
   "execution_count": 131,
   "metadata": {},
   "outputs": [
    {
     "data": {
      "text/html": [
       "<div>\n",
       "<style scoped>\n",
       "    .dataframe tbody tr th:only-of-type {\n",
       "        vertical-align: middle;\n",
       "    }\n",
       "\n",
       "    .dataframe tbody tr th {\n",
       "        vertical-align: top;\n",
       "    }\n",
       "\n",
       "    .dataframe thead th {\n",
       "        text-align: right;\n",
       "    }\n",
       "</style>\n",
       "<table border=\"1\" class=\"dataframe\">\n",
       "  <thead>\n",
       "    <tr style=\"text-align: right;\">\n",
       "      <th></th>\n",
       "      <th>dim_0</th>\n",
       "    </tr>\n",
       "  </thead>\n",
       "  <tbody>\n",
       "    <tr>\n",
       "      <th>0</th>\n",
       "      <td>0     -0.362922\n",
       "1     -0.365328\n",
       "2     -0.38781...</td>\n",
       "    </tr>\n",
       "    <tr>\n",
       "      <th>1</th>\n",
       "      <td>0     -0.116280\n",
       "1     -0.116428\n",
       "2     -0.10543...</td>\n",
       "    </tr>\n",
       "    <tr>\n",
       "      <th>2</th>\n",
       "      <td>0     -0.179317\n",
       "1     -0.181082\n",
       "2     -0.17809...</td>\n",
       "    </tr>\n",
       "    <tr>\n",
       "      <th>3</th>\n",
       "      <td>0     -0.103757\n",
       "1     -0.095310\n",
       "2     -0.08026...</td>\n",
       "    </tr>\n",
       "    <tr>\n",
       "      <th>4</th>\n",
       "      <td>0     -0.208100\n",
       "1     -0.196968\n",
       "2     -0.17793...</td>\n",
       "    </tr>\n",
       "    <tr>\n",
       "      <th>5</th>\n",
       "      <td>0     -0.428019\n",
       "1     -0.444407\n",
       "2     -0.47502...</td>\n",
       "    </tr>\n",
       "    <tr>\n",
       "      <th>6</th>\n",
       "      <td>0     -0.244437\n",
       "1     -0.251504\n",
       "2     -0.25981...</td>\n",
       "    </tr>\n",
       "    <tr>\n",
       "      <th>7</th>\n",
       "      <td>0     -0.254174\n",
       "1     -0.258213\n",
       "2     -0.25569...</td>\n",
       "    </tr>\n",
       "    <tr>\n",
       "      <th>8</th>\n",
       "      <td>0     -0.275783\n",
       "1     -0.279907\n",
       "2     -0.28080...</td>\n",
       "    </tr>\n",
       "    <tr>\n",
       "      <th>9</th>\n",
       "      <td>0     -0.196107\n",
       "1     -0.190572\n",
       "2     -0.19034...</td>\n",
       "    </tr>\n",
       "  </tbody>\n",
       "</table>\n",
       "</div>"
      ],
      "text/plain": [
       "                                               dim_0\n",
       "0  0     -0.362922\n",
       "1     -0.365328\n",
       "2     -0.38781...\n",
       "1  0     -0.116280\n",
       "1     -0.116428\n",
       "2     -0.10543...\n",
       "2  0     -0.179317\n",
       "1     -0.181082\n",
       "2     -0.17809...\n",
       "3  0     -0.103757\n",
       "1     -0.095310\n",
       "2     -0.08026...\n",
       "4  0     -0.208100\n",
       "1     -0.196968\n",
       "2     -0.17793...\n",
       "5  0     -0.428019\n",
       "1     -0.444407\n",
       "2     -0.47502...\n",
       "6  0     -0.244437\n",
       "1     -0.251504\n",
       "2     -0.25981...\n",
       "7  0     -0.254174\n",
       "1     -0.258213\n",
       "2     -0.25569...\n",
       "8  0     -0.275783\n",
       "1     -0.279907\n",
       "2     -0.28080...\n",
       "9  0     -0.196107\n",
       "1     -0.190572\n",
       "2     -0.19034..."
      ]
     },
     "execution_count": 131,
     "metadata": {},
     "output_type": "execute_result"
    }
   ],
   "source": [
    "X = np.array([np.asarray([x]).reshape(len(x), 1) for x in train_x.iloc[:, 0]])\n",
    "X[0][0][0]\n",
    "train_x.head(10)"
   ]
  },
  {
   "cell_type": "code",
   "execution_count": 4,
   "metadata": {
    "pycharm": {
     "is_executing": false,
     "name": "#%%"
    }
   },
   "outputs": [
    {
     "data": {
      "text/plain": [
       "{'1': (array([ 0,  1,  4,  5,  7,  8, 11, 12, 14, 16, 17, 19, 20, 22, 23, 24, 25,\n",
       "         26, 29, 30, 33, 36, 38, 40, 41, 44, 49, 50, 54, 57, 58, 61, 62, 64],\n",
       "        dtype=int64),),\n",
       " '2': (array([ 2,  3,  6,  9, 10, 13, 15, 18, 21, 27, 28, 31, 32, 34, 35, 37, 39,\n",
       "         42, 43, 45, 46, 47, 48, 51, 52, 53, 55, 56, 59, 60, 63, 65, 66],\n",
       "        dtype=int64),)}"
      ]
     },
     "execution_count": 4,
     "metadata": {},
     "output_type": "execute_result"
    }
   ],
   "source": [
    "\n",
    "def class_indices(X, y):\n",
    "    split_indices = {}\n",
    "    \n",
    "    for cls in np.unique(y):\n",
    "        grp = np.where(y == cls)\n",
    "        split_indices[cls] = grp\n",
    "    \n",
    "    return split_indices\n",
    "\n",
    "class_indices(train_x, train_y)\n",
    "\n"
   ]
  },
  {
   "cell_type": "code",
   "execution_count": 119,
   "metadata": {},
   "outputs": [
    {
     "data": {
      "text/plain": [
       "1.0"
      ]
     },
     "execution_count": 119,
     "metadata": {},
     "output_type": "execute_result"
    }
   ],
   "source": [
    "def euclidean(a, b):\n",
    "    dimension = 0\n",
    "    return np.sqrt(np.sum((a[dimension]-b[dimension])**2))\n",
    "    \n",
    "_ = euclidean([1], [0])\n",
    "_"
   ]
  },
  {
   "cell_type": "code",
   "execution_count": 133,
   "metadata": {
    "pycharm": {
     "is_executing": false
    }
   },
   "outputs": [
    {
     "data": {
      "text/plain": [
       "153.57489904950208"
      ]
     },
     "execution_count": 133,
     "metadata": {},
     "output_type": "execute_result"
    }
   ],
   "source": [
    "def euclidean(a, b):\n",
    "    dimension = 0\n",
    "    return np.sum((a[dimension]-b[dimension])**2)\n",
    "    \n",
    "_ = euclidean(train_x.iloc[0], test_x.iloc[0])\n",
    "# print(_)\n",
    "# np.sum(_)\n",
    "# train_x.iloc[0].shape\n",
    "_"
   ]
  },
  {
   "cell_type": "code",
   "execution_count": 70,
   "metadata": {
    "pycharm": {
     "is_executing": false
    }
   },
   "outputs": [
    {
     "data": {
      "text/plain": [
       "{'1': (array([ 0,  1,  4,  5,  7,  8, 11, 12, 14, 16, 17, 19, 20, 22, 23, 24, 25,\n",
       "         26, 29, 30, 33, 36, 38, 40, 41, 44, 49, 50, 54, 57, 58, 61, 62, 64],\n",
       "        dtype=int64),),\n",
       " '2': (array([ 2,  3,  6,  9, 10, 13, 15, 18, 21, 27, 28, 31, 32, 34, 35, 37, 39,\n",
       "         42, 43, 45, 46, 47, 48, 51, 52, 53, 55, 56, 59, 60, 63, 65, 66],\n",
       "        dtype=int64),)}"
      ]
     },
     "execution_count": 70,
     "metadata": {},
     "output_type": "execute_result"
    }
   ],
   "source": [
    "def split(X, y):\n",
    "    split_indices = {}\n",
    "    \n",
    "    for cls in np.unique(y):\n",
    "        grp = np.where(y == cls)\n",
    "        split_indices[cls] = grp\n",
    "    \n",
    "    return split_indices\n",
    "\n",
    "split(train_x, train_y)"
   ]
  },
  {
   "cell_type": "code",
   "execution_count": 67,
   "metadata": {},
   "outputs": [
    {
     "data": {
      "text/plain": [
       "0.5"
      ]
     },
     "execution_count": 67,
     "metadata": {},
     "output_type": "execute_result"
    }
   ],
   "source": [
    "def gini(self, y):\n",
    "    if y.shape[0] == 0:\n",
    "        return 0\n",
    "#     print(y.shape[0])\n",
    "#     print(np.unique(y, return_counts=True)[1])\n",
    "#     print(np.unique(y, return_counts=True)[1] / y.shape[0])\n",
    "#     print(np.power(np.unique(y, return_counts=True)[1] / y.shape[0] , 2))\n",
    "#     print(np.sum(np.power(np.unique(y, return_counts=True)[1] / y.shape[0] , 2)))\n",
    "    return 1 - np.sum(np.power(np.unique(y, return_counts=True)[1] / y.shape[0] , 2))\n",
    "\n",
    "gini(None, np.array([33,37]))\n"
   ]
  },
  {
   "cell_type": "code",
   "execution_count": 74,
   "metadata": {},
   "outputs": [
    {
     "data": {
      "text/plain": [
       "{'1': (array([ 0,  1,  4,  5,  7,  8, 11, 12, 14, 16, 17, 19, 20, 22, 23, 24, 25,\n",
       "         26, 29, 30, 33, 36, 38, 40, 41, 44, 49, 50, 54, 57, 58, 61, 62, 64],\n",
       "        dtype=int64),),\n",
       " '2': (array([ 2,  3,  6,  9, 10, 13, 15, 18, 21, 27, 28, 31, 32, 34, 35, 37, 39,\n",
       "         42, 43, 45, 46, 47, 48, 51, 52, 53, 55, 56, 59, 60, 63, 65, 66],\n",
       "        dtype=int64),)}"
      ]
     },
     "execution_count": 74,
     "metadata": {},
     "output_type": "execute_result"
    }
   ],
   "source": [
    "def get_class_indices(self, X, y):\n",
    "    split_indices = {}\n",
    "\n",
    "    for cls in np.unique(y):\n",
    "        grp = np.where(y == cls)\n",
    "        split_indices[cls] = grp\n",
    "\n",
    "    return split_indices\n",
    "    \n",
    "    \n",
    "def split(self, X, y):\n",
    "    cls_ind = get_class_indices(self, X, y)\n",
    "    \n",
    "    return cls_ind\n",
    "    \n",
    "    \n",
    "split(None, train_x, train_y) \n"
   ]
  },
  {
   "cell_type": "code",
   "execution_count": 89,
   "metadata": {},
   "outputs": [
    {
     "data": {
      "text/plain": [
       "array([0, 0, 1, 1, 0, 0, 1, 0, 0, 1, 1, 0, 0, 1, 0, 1, 0, 0, 1, 0, 0, 1,\n",
       "       0, 0, 0, 0, 0, 1, 1, 0, 0, 1, 1, 0, 1, 1, 0, 1, 0, 1, 0, 0, 1, 1,\n",
       "       0, 1, 1, 1, 1, 0, 0, 1, 1, 1, 0, 1, 1, 0, 0, 1, 1, 0, 0, 1, 0, 1,\n",
       "       1], dtype=int64)"
      ]
     },
     "execution_count": 89,
     "metadata": {},
     "output_type": "execute_result"
    }
   ],
   "source": [
    "u, ind = np.unique(train_y, return_inverse  = True)\n",
    "ind"
   ]
  }
 ],
 "metadata": {
  "kernelspec": {
   "display_name": "Python 3",
   "language": "python",
   "name": "python3"
  },
  "language_info": {
   "codemirror_mode": {
    "name": "ipython",
    "version": 3
   },
   "file_extension": ".py",
   "mimetype": "text/x-python",
   "name": "python",
   "nbconvert_exporter": "python",
   "pygments_lexer": "ipython3",
   "version": "3.7.4"
  },
  "pycharm": {
   "stem_cell": {
    "cell_type": "raw",
    "metadata": {
     "collapsed": false
    },
    "source": []
   }
  }
 },
 "nbformat": 4,
 "nbformat_minor": 1
}
