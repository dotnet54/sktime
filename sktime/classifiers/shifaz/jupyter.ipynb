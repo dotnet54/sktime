{
 "cells": [
  {
   "cell_type": "code",
   "execution_count": 8,
   "metadata": {
    "collapsed": true,
    "pycharm": {
     "is_executing": false
    }
   },
   "outputs": [],
   "source": [
    "import numpy as np\n",
    "import pandas as pd\n",
    "\n",
    "from sktime.classifiers.shifaz.tschief import ChiefTree"
   ]
  },
  {
   "cell_type": "code",
   "execution_count": 15,
   "metadata": {
    "pycharm": {
     "is_executing": false,
     "name": "#%%\n"
    }
   },
   "outputs": [],
   "source": [
    "from sktime.utils.load_data import load_from_tsfile_to_dataframe\n",
    "data_path = \"/data/\"\n",
    "archive_name ='Univariate_ts'\n",
    "dataset_name = 'ItalyPowerDemand'\n",
    "\n",
    "train_file = data_path + archive_name + '/' + dataset_name + '/' +  dataset_name + '_TRAIN.ts'\n",
    "test_file = data_path + archive_name + '/' + dataset_name + '/' +  dataset_name + '_TEST.ts'\n",
    "\n",
    "train_x, train_y = load_from_tsfile_to_dataframe(train_file)\n",
    "test_x, test_y = load_from_tsfile_to_dataframe(test_file)"
   ]
  },
  {
   "cell_type": "code",
   "execution_count": 51,
   "metadata": {
    "pycharm": {
     "is_executing": false,
     "name": "#%%"
    }
   },
   "outputs": [
    {
     "data": {
      "text/plain": [
       "{'1': (array([ 0,  1,  4,  5,  7,  8, 11, 12, 14, 16, 17, 19, 20, 22, 23, 24, 25,\n",
       "         26, 29, 30, 33, 36, 38, 40, 41, 44, 49, 50, 54, 57, 58, 61, 62, 64]),),\n",
       " '2': (array([ 2,  3,  6,  9, 10, 13, 15, 18, 21, 27, 28, 31, 32, 34, 35, 37, 39,\n",
       "         42, 43, 45, 46, 47, 48, 51, 52, 53, 55, 56, 59, 60, 63, 65, 66]),)}"
      ]
     },
     "execution_count": 51,
     "metadata": {},
     "output_type": "execute_result"
    }
   ],
   "source": [
    "\n",
    "def class_indices(X, y):\n",
    "    split_indices = {}\n",
    "    \n",
    "    for cls in np.unique(y):\n",
    "        grp = np.where(y == cls)\n",
    "        split_indices[cls] = grp\n",
    "    \n",
    "    return split_indices\n",
    "\n",
    "class_indices(train_x, train_y)\n",
    "\n"
   ]
  },
  {
   "cell_type": "code",
   "execution_count": 119,
   "metadata": {},
   "outputs": [
    {
     "data": {
      "text/plain": [
       "(1,)"
      ]
     },
     "execution_count": 119,
     "metadata": {},
     "output_type": "execute_result"
    }
   ],
   "source": [
    "def euclidean(a, b):\n",
    "    a = a.to_numpy()\n",
    "    b = b.to_numpy()\n",
    "    \n",
    "    return (a-b)**2 #np.sqrt(np.sum((a-b)**2))\n",
    "    \n",
    "_ = euclidean(train_x.iloc[0], train_x.iloc[1])\n",
    "# print(_)\n",
    "# np.sum(_)\n",
    "train_x.iloc[0].shape"
   ]
  },
  {
   "cell_type": "code",
   "execution_count": 45,
   "metadata": {},
   "outputs": [
    {
     "ename": "ValueError",
     "evalue": "shape mismatch: objects cannot be broadcast to a single shape",
     "output_type": "error",
     "traceback": [
      "\u001b[0;31m---------------------------------------------------------------------------\u001b[0m",
      "\u001b[0;31mValueError\u001b[0m                                Traceback (most recent call last)",
      "\u001b[0;32m<ipython-input-45-cc36d8f33b06>\u001b[0m in \u001b[0;36m<module>\u001b[0;34m\u001b[0m\n\u001b[0;32m----> 1\u001b[0;31m \u001b[0mnp\u001b[0m\u001b[0;34m.\u001b[0m\u001b[0mwhere\u001b[0m\u001b[0;34m(\u001b[0m\u001b[0mtrain_y\u001b[0m \u001b[0;34m==\u001b[0m \u001b[0mnp\u001b[0m\u001b[0;34m.\u001b[0m\u001b[0munique\u001b[0m\u001b[0;34m(\u001b[0m\u001b[0mtrain_y\u001b[0m\u001b[0;34m)\u001b[0m\u001b[0;34m)\u001b[0m\u001b[0;34m\u001b[0m\u001b[0;34m\u001b[0m\u001b[0m\n\u001b[0m",
      "\u001b[0;31mValueError\u001b[0m: shape mismatch: objects cannot be broadcast to a single shape"
     ]
    }
   ],
   "source": [
    "def split(X, y):\n",
    "    split_indices = {}\n",
    "    \n",
    "    for cls in np.unique(y):\n",
    "        grp = np.where(y == cls)\n",
    "        split_indices[cls] = grp\n",
    "    \n",
    "    return split_indices\n"
   ]
  }
 ],
 "metadata": {
  "kernelspec": {
   "display_name": "Python 3",
   "language": "python",
   "name": "python3"
  },
  "language_info": {
   "codemirror_mode": {
    "name": "ipython",
    "version": 3
   },
   "file_extension": ".py",
   "mimetype": "text/x-python",
   "name": "python",
   "nbconvert_exporter": "python",
   "pygments_lexer": "ipython3",
   "version": "3.7.4"
  },
  "pycharm": {
   "stem_cell": {
    "cell_type": "raw",
    "metadata": {
     "collapsed": false
    },
    "source": []
   }
  }
 },
 "nbformat": 4,
 "nbformat_minor": 1
}
